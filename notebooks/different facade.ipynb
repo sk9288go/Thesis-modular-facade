{
 "cells": [
  {
   "cell_type": "code",
   "execution_count": 11,
   "metadata": {},
   "outputs": [],
   "source": [
    "import topogenesis as tg\n",
    "import numpy as np \n",
    "import pyvista as pv\n",
    "import os\n",
    "import trimesh as tm\n",
    "import boolean_marching_cubes as bmc\n",
    "\n",
    "context_path = os.path.relpath('../data/context.obj')\n",
    "context_mesh = tm.load(context_path)"
   ]
  },
  {
   "cell_type": "code",
   "execution_count": 12,
   "metadata": {},
   "outputs": [],
   "source": [
    "# example symmetry strings\n",
    "##########################\n",
    "# sym_str = [[\"OO\"], [\"XP\"], [\"XN\"], [\"YP\"], [\"YN\"], [\"ZP\"], [\"ZN\"]]\n",
    "# sym_str = [[\"OO\"], [\"XX\"], [\"YP\"], [\"YN\"], [\"ZP\"], [\"ZN\"]]\n",
    "sym_str = [[\"OO\"], [\"XX\"], [\"YY\"], [\"ZP\"], [\"ZN\"]]\n",
    "# sym_str = [[\"OO\"], [\"XX\", \"YY\", \"ZZ\"]]\n",
    "# sym_str = [[\"OO\"]]\n",
    "\n",
    "stencils = bmc.create_symmetry_stencils(sym_str)\n",
    "# generate binary representation of all the possible cubes\n",
    "l_bis = bmc.bi_cube_lattices()\n",
    "# find all unique corner arrangements based on stencils\n",
    "corner_profiles = bmc.extract_corner_profiles(stencils, l_bis)\n",
    "# stack corner_profiles vertically\n",
    "cp_stacked = np.vstack(corner_profiles)\n",
    "# find the unique arrangements of corners\n",
    "uniq_corner_arang = np.unique(cp_stacked, axis=0)\n",
    "# construct lattices for all unique corner profiles\n",
    "(corner_loc_lattices, corner_neigh_lattices) = bmc.profiles_to_lattices(uniq_corner_arang, stencils)\n",
    "\n",
    "# save all design templates into lattice CSVs\n",
    "templates_path = os.path.relpath('../data/bmc/bmc_templates1')\n",
    "bmc.save_design_templates(corner_loc_lattices, corner_neigh_lattices, templates_path)\n"
   ]
  },
  {
   "cell_type": "markdown",
   "metadata": {},
   "source": [
    "## TILESETS"
   ]
  },
  {
   "cell_type": "code",
   "execution_count": 13,
   "metadata": {},
   "outputs": [],
   "source": [
    "# load subtile meshes\n",
    "Facade_meshes1 = []\n",
    "for c in range(len(corner_loc_lattices)):\n",
    "    corner_mesh_path = os.path.relpath('../data/bmc/4window half covered/t_' + f'{c:02}' + '.obj')\n",
    "    corner_mesh = tm.load(corner_mesh_path)\n",
    "    Facade_meshes1.append(corner_mesh)\n",
    "\n",
    "tiles_meshes1 = bmc.construct_tile_meshes_old(Facade_meshes1, corner_profiles, uniq_corner_arang, corner_loc_lattices)\n",
    "#tiles_meshes = construct_tile_meshes(subtile_meshes, corner_profiles, uniq_corner_arang, corner_loc_lattices)\n"
   ]
  },
  {
   "cell_type": "code",
   "execution_count": 14,
   "metadata": {},
   "outputs": [],
   "source": [
    "# load subtile meshes\n",
    "Facade_meshes2 = []\n",
    "for c in range(len(corner_loc_lattices)):\n",
    "    corner_mesh_path = os.path.relpath('../data/bmc/2window no covered/t_' + f'{c:02}' + '.obj')\n",
    "    corner_mesh = tm.load(corner_mesh_path)\n",
    "    Facade_meshes2.append(corner_mesh)\n",
    "\n",
    "tiles_meshes2 = bmc.construct_tile_meshes_old(Facade_meshes2, corner_profiles, uniq_corner_arang, corner_loc_lattices)\n",
    "#tiles_meshes = construct_tile_meshes(subtile_meshes, corner_profiles, uniq_corner_arang, corner_loc_lattices)\n"
   ]
  },
  {
   "cell_type": "markdown",
   "metadata": {},
   "source": [
    "### visualize can be hidden"
   ]
  },
  {
   "cell_type": "code",
   "execution_count": 15,
   "metadata": {},
   "outputs": [],
   "source": [
    "# # convert mesh to pv_mesh\n",
    "# def tri_to_pv(tri_mesh):\n",
    "#     faces = np.pad(tri_mesh.faces, ((0, 0),(1,0)), 'constant', constant_values=3)\n",
    "#     pv_mesh = pv.PolyData(tri_mesh.vertices, faces)\n",
    "#     return pv_mesh\n",
    "# pv.set_plot_theme(\"document\")\n",
    "# p = pv.Plotter(notebook=False)\n",
    "\n",
    "# base_lattice = l_bis[0]\n",
    "\n",
    "# # Set the grid dimensions: shape + 1 because we want to inject our values on the CELL data\n",
    "# grid = pv.UniformGrid()\n",
    "# grid.dimensions = np.array(base_lattice.shape) + 1\n",
    "# # The bottom left corner of the data set\n",
    "# grid.origin = base_lattice.minbound - base_lattice.unit * 0.5\n",
    "# # These are the cell sizes along each axis\n",
    "# grid.spacing = base_lattice.unit *0.5\n",
    "\n",
    "# # adding the boundingbox wireframe\n",
    "# p.add_mesh(grid.outline(), color=\"grey\", label=\"Domain\")\n",
    "\n",
    "# # adding axes\n",
    "# p.add_axes()\n",
    "# p.show_bounds(grid=\"back\", location=\"back\", color=\"#aaaaaa\")\n",
    "\n",
    "# def create_mesh(value):\n",
    "#     i = int(value)\n",
    "#     mesh = tiles_meshes1[i]\n",
    "#     lattice = l_bis[i]\n",
    "\n",
    "#     # Add the data values to the cell data\n",
    "#     grid.cell_arrays[\"cube\"] = lattice.flatten(order=\"F\").astype(int)# Flatten the array!\n",
    "#     # filtering the voxels\n",
    "#     threshed = grid.threshold([.9, 1.1], scalars=\"cube\")\n",
    "#     # adding the voxels\n",
    "#     p.add_mesh(threshed, name='sphere2', show_edges=True, opacity=0.2, show_scalar_bar=False, color=\"C86F64\")\n",
    "\n",
    "#     # adding the meshes\n",
    "#     p.add_mesh(tri_to_pv(mesh), color='#463E5F', name=\"sphere\")\n",
    "\n",
    "#     return\n",
    "\n",
    "# p.add_slider_widget(create_mesh, [0, len(tiles_meshes1)], title='Tiles', value=1, event_type=\"always\", style=\"classic\", pointa=(0.1, 0.1), pointb=(0.9, 0.1))\n",
    "\n",
    "# p.show(use_ipyvtk=True)"
   ]
  },
  {
   "cell_type": "markdown",
   "metadata": {},
   "source": [
    "# save\n"
   ]
  },
  {
   "cell_type": "code",
   "execution_count": 16,
   "metadata": {},
   "outputs": [],
   "source": [
    "#save facade tile mesh\n",
    "def save_tile_meshes(tiles_meshes1, l_bis, tiles_path):\n",
    "    pow_two = 2 ** np.arange(7, -1, -1)\n",
    "    for tile_mesh, l in zip(tiles_meshes1, l_bis):\n",
    "        l = np.roll(l, [1, 1, 1], [0, 1, 2])\n",
    "        c_id = np.sum(l.flatten(order='F') * pow_two)\n",
    "        tile_mesh_path = os.path.join(tiles_path, 't_' + f'{c_id:03}' + '.obj')\n",
    "        with open(tile_mesh_path, 'w') as file:\n",
    "            file.write(tm.exchange.obj.export_obj(tile_mesh))\n",
    "\n",
    "\n",
    "#save ground level firstfloor facade tile mesh\n",
    "def save_tile_meshes2(tiles_meshes2, l_bis, tiles_path):\n",
    "    pow_two = 2 ** np.arange(7, -1, -1)\n",
    "    for tile_mesh, l in zip(tiles_meshes2, l_bis):\n",
    "        l = np.roll(l, [1, 1, 1], [0, 1, 2])\n",
    "        c_id = np.sum(l.flatten(order='F') * pow_two)\n",
    "        tile_mesh_path = os.path.join(tiles_path, 't_' + f'{c_id+256:03}' + '.obj')\n",
    "        with open(tile_mesh_path, 'w') as file:\n",
    "            file.write(tm.exchange.obj.export_obj(tile_mesh))\n",
    "\n",
    "tiles_path = os.path.relpath('../data/bmc/SET_4W2C')\n",
    "save_tile_meshes(tiles_meshes1, l_bis, tiles_path)\n",
    "save_tile_meshes2(tiles_meshes2, l_bis, tiles_path)"
   ]
  },
  {
   "cell_type": "code",
   "execution_count": 17,
   "metadata": {},
   "outputs": [
    {
     "name": "stdout",
     "output_type": "stream",
     "text": [
      "(24, 14, 7)\n",
      "(26, 16, 9)\n"
     ]
    }
   ],
   "source": [
    "# loading the lattice from csv\n",
    "lattice_path = os.path.relpath('../data/Solar_env_79.csv')\n",
    "envelope_lattice = tg.lattice_from_csv(lattice_path)\n",
    "print(envelope_lattice.shape)\n",
    "\n",
    "padded_env_arr = np.pad(envelope_lattice, 1, mode=\"constant\", constant_values=False)\n",
    "padded_minbound = envelope_lattice.minbound - envelope_lattice.unit\n",
    "envelope_lattice = tg.to_lattice(padded_env_arr, minbound=padded_minbound, unit=envelope_lattice.unit)\n",
    "print(envelope_lattice.shape)"
   ]
  },
  {
   "cell_type": "code",
   "execution_count": 18,
   "metadata": {},
   "outputs": [],
   "source": [
    "cube_lattice = envelope_lattice.boolean_marching_cubes()\n",
    "# dump with 256 for some parts\n",
    "cube_lattice[:5, :15, :6] += 256\n",
    "\n",
    "# make some 0 \n",
    "cube_lattice[:12, :12, 0:1] = 0"
   ]
  },
  {
   "cell_type": "code",
   "execution_count": 19,
   "metadata": {},
   "outputs": [],
   "source": [
    "def marching_cube_mesh_2(cube_lattice, tiles_path):\n",
    "\n",
    "    # extract cube indices\n",
    "    cube_ind = np.transpose(np.indices(cube_lattice.shape),\n",
    "                            (1, 2, 3, 0)).reshape(-1, 3)\n",
    "    # extract cube positions\n",
    "    cube_pos = (cube_ind + 0.5) * cube_lattice.unit + cube_lattice.minbound\n",
    "    # extract cube tid\n",
    "    cube_tid = cube_lattice.ravel()\n",
    "    # remove the cube position and tid where tid is 0\n",
    "    filled_cube_pos = cube_pos[cube_tid > 0]\n",
    "    filled_cube_tid = cube_tid[cube_tid > 0]\n",
    "    # load tiles\n",
    "    # set how manu tileset\n",
    "    tilesetnumber = 2\n",
    "    tiles = [0]\n",
    "    for i in range(1, 256*tilesetnumber):\n",
    "        tile_path = os.path.join(tiles_path, 't_' + f'{i:03}' + '.obj')\n",
    "        tile = tm.load(tile_path)\n",
    "        tile.vertices *= cube_lattice.unit\n",
    "        tiles.append(tile)\n",
    "    last_v_count = 0\n",
    "    vertice_list = []\n",
    "    face_list = []\n",
    "    # place tiles\n",
    "    for i in range(1, filled_cube_tid.size):\n",
    "        # extract current tile\n",
    "        tile = tiles[filled_cube_tid[i]]\n",
    "        # append the vertices\n",
    "        vertice_list.append(tile.vertices + filled_cube_pos[i])\n",
    "        face_list.append(tile.faces + last_v_count)\n",
    "        last_v_count += len(tile.vertices)\n",
    "    vs = []\n",
    "    fs = []\n",
    "    # if len(vertice_list):\n",
    "    vs = np.vstack(vertice_list)\n",
    "    fs = np.vstack(face_list)\n",
    "    tile_mesh = tm.Trimesh(vs, fs)\n",
    "    return tile_mesh\n",
    "\n",
    "bmc_facademesh = marching_cube_mesh_2(cube_lattice,tiles_path)"
   ]
  },
  {
   "cell_type": "code",
   "execution_count": 20,
   "metadata": {},
   "outputs": [
    {
     "data": {
      "text/plain": [
       "[(729.8396710078963, 376.12395148293285, 234.56692202076647),\n",
       " (646.0, 330.0, 8.0),\n",
       " (-0.6718940092557859, -0.6367700366769359, 0.37826229089963415)]"
      ]
     },
     "execution_count": 20,
     "metadata": {},
     "output_type": "execute_result"
    }
   ],
   "source": [
    "# convert mesh to pv_mesh\n",
    "def tri_to_pv(tri_mesh):\n",
    "    faces = np.pad(tri_mesh.faces, ((0, 0),(1,0)), 'constant', constant_values=3)\n",
    "    pv_mesh = pv.PolyData(tri_mesh.vertices, faces)\n",
    "    return pv_mesh\n",
    "\n",
    "# initiating the plotter\n",
    "p = pv.Plotter(notebook=False)\n",
    "\n",
    "# # adding the meshes\n",
    "p.add_mesh(tri_to_pv(bmc_facademesh), color='#638275', name=\"sphere\", opacity=1)\n",
    "# # fast visualization of the lattice\n",
    "p = envelope_lattice.fast_vis(p)\n",
    "# p.add_mesh(tri_to_pv(context_mesh), style='surface')\n",
    "#p.add_mesh(tri_to_pv(bmc_facademesh), style ='surface',opacity=1)\n",
    "# plotting\n",
    "p.show(use_ipyvtk=True)"
   ]
  }
 ],
 "metadata": {
  "interpreter": {
   "hash": "68a7181a4f576b167e74d05b5a06a28dbe4c37f8fc956ba83d8899460eb5f2a8"
  },
  "kernelspec": {
   "display_name": "Python 3.8.5 64-bit ('scds': conda)",
   "language": "python",
   "name": "python3"
  },
  "language_info": {
   "codemirror_mode": {
    "name": "ipython",
    "version": 3
   },
   "file_extension": ".py",
   "mimetype": "text/x-python",
   "name": "python",
   "nbconvert_exporter": "python",
   "pygments_lexer": "ipython3",
   "version": "3.8.5"
  },
  "orig_nbformat": 4
 },
 "nbformat": 4,
 "nbformat_minor": 2
}
