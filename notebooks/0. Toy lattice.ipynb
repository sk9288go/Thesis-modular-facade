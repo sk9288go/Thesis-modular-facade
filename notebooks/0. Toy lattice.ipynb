{
 "cells": [
  {
   "cell_type": "code",
   "execution_count": 1,
   "metadata": {},
   "outputs": [],
   "source": [
    "import os\n",
    "import topogenesis as tg\n",
    "import trimesh as tm\n",
    "import numpy as np\n",
    "import pyvista as pv"
   ]
  },
  {
   "cell_type": "code",
   "execution_count": 2,
   "metadata": {},
   "outputs": [
    {
     "data": {
      "text/plain": [
       "<trimesh.Trimesh(vertices.shape=(92, 3), faces.shape=(64, 3))>"
      ]
     },
     "execution_count": 2,
     "metadata": {},
     "output_type": "execute_result"
    }
   ],
   "source": [
    "unit = [4.32, 4.32, 3.132]\n",
    "mesh_path = os.path.relpath('../data/toymodule.obj')\n",
    "mesh = tm.load(mesh_path)\n",
    "\n",
    "mesh"
   ]
  },
  {
   "cell_type": "code",
   "execution_count": 3,
   "metadata": {},
   "outputs": [
    {
     "name": "stdout",
     "output_type": "stream",
     "text": [
      "The history saving thread hit an unexpected error (OperationalError('database is locked')).History will not be written to the database.\n"
     ]
    }
   ],
   "source": [
    "def tri_to_pv(tri_mesh):\n",
    "    faces = np.pad(tri_mesh.faces, ((0,0),(1,0)), 'constant', constant_values=3)\n",
    "    pv_mesh = pv.PolyData(tri_mesh.vertices, faces)\n",
    "    return pv_mesh\n"
   ]
  },
  {
   "cell_type": "code",
   "execution_count": 4,
   "metadata": {},
   "outputs": [
    {
     "name": "stderr",
     "output_type": "stream",
     "text": [
      "Mesh is non-watertight for contained point query!\n"
     ]
    }
   ],
   "source": [
    "# initialize the base lattice\n",
    "base_lattice = tg.lattice(mesh.bounds, unit=unit, default_value=1, dtype=int)\n",
    "\n",
    "# check which voxel centroids is inside the mesh\n",
    "interior_condition = mesh.contains(base_lattice.centroids)\n",
    "\n",
    "# reshape the interior condition to the shape of the base_lattice\n",
    "interior_array = interior_condition.reshape(base_lattice.shape)\n",
    "\n",
    "# convert the interior array into a lattice\n",
    "interior_lattice = tg.to_lattice(interior_array, base_lattice.minbound, base_lattice.unit)"
   ]
  },
  {
   "cell_type": "code",
   "execution_count": 5,
   "metadata": {},
   "outputs": [
    {
     "data": {
      "application/vnd.jupyter.widget-view+json": {
       "model_id": "823961fbf2244768a2486e186c73be5c",
       "version_major": 2,
       "version_minor": 0
      },
      "text/plain": [
       "ViewInteractiveWidget(height=768, layout=Layout(height='auto', width='100%'), width=1024)"
      ]
     },
     "metadata": {},
     "output_type": "display_data"
    },
    {
     "data": {
      "text/plain": [
       "[(44.04891997912488, 50.52892047503553, 23.420919719725468),\n",
       " (23.760000228881836, 30.24000072479248, 3.131999969482422),\n",
       " (0.0, 0.0, 1.0)]"
      ]
     },
     "execution_count": 5,
     "metadata": {},
     "output_type": "execute_result"
    }
   ],
   "source": [
    "# Visualize the voxelization using pyvista plotter\n",
    "####\n",
    "\n",
    "# initiating the plotter\n",
    "p = pv.Plotter()\n",
    "\n",
    "# fast visualization of the lattice\n",
    "interior_lattice.fast_vis(p)\n",
    "\n",
    "# adding the base mesh: light blue\n",
    "p.add_mesh(tri_to_pv(mesh), color='#abd8ff', opacity=0.1)\n",
    "\n",
    "# plotting\n",
    "p.show(use_ipyvtk=True)"
   ]
  },
  {
   "cell_type": "code",
   "execution_count": 6,
   "metadata": {},
   "outputs": [],
   "source": [
    "csv_path = os.path.relpath('../data/voxelized_envelope_toy.csv')\n",
    "interior_lattice.to_csv(csv_path)"
   ]
  }
 ],
 "metadata": {
  "interpreter": {
   "hash": "68a7181a4f576b167e74d05b5a06a28dbe4c37f8fc956ba83d8899460eb5f2a8"
  },
  "kernelspec": {
   "display_name": "Python 3.8.5 64-bit ('scds': conda)",
   "language": "python",
   "name": "python3"
  },
  "language_info": {
   "codemirror_mode": {
    "name": "ipython",
    "version": 3
   },
   "file_extension": ".py",
   "mimetype": "text/x-python",
   "name": "python",
   "nbconvert_exporter": "python",
   "pygments_lexer": "ipython3",
   "version": "3.8.5"
  },
  "orig_nbformat": 4
 },
 "nbformat": 4,
 "nbformat_minor": 2
}
