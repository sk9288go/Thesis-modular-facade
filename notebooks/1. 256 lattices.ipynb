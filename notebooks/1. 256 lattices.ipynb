{
 "cells": [
  {
   "cell_type": "code",
   "execution_count": 31,
   "metadata": {},
   "outputs": [],
   "source": [
    "import topogenesis as tg\n",
    "import numpy as np \n",
    "import pyvista as pv\n",
    "import os\n",
    "import trimesh as tm\n",
    "import boolean_marching_cubes as bmc"
   ]
  },
  {
   "cell_type": "code",
   "execution_count": 32,
   "metadata": {},
   "outputs": [],
   "source": [
    "def indexed(l, start=0):\n",
    "    return list(enumerate(l, start))"
   ]
  },
  {
   "cell_type": "code",
   "execution_count": 33,
   "metadata": {},
   "outputs": [],
   "source": [
    "l_bis = []\n",
    "\n",
    "templates_path = os.path.relpath('../data/bmc/lattice')\n",
    "\n",
    "for i in range(2**8):\n",
    "    bi = np.array(list(np.binary_repr(i, width=8))).astype(int).reshape((2, 2, 2))\n",
    "    l_bi = tg.to_lattice(bi, [0, 0, 0])\n",
    "    l_bis.append(l_bi)\n",
    "    e_path = os.path.join(templates_path, 'l_bis_' + f'{i:03}' + '.csv')\n",
    "    bmc.to_csv(l_bi, e_path)"
   ]
  },
  {
   "cell_type": "markdown",
   "metadata": {},
   "source": [
    "## Create 256 empty configurations"
   ]
  },
  {
   "cell_type": "code",
   "execution_count": 34,
   "metadata": {},
   "outputs": [],
   "source": [
    "# set tileset number / window, door, wall etc\n",
    "numtile = 1 \n",
    "numbertileset = 255*numtile\n",
    "tileset = [] \n",
    "for i in range (2**8):\n",
    "    c_id = i + numbertileset\n",
    "    tileset.append(c_id)\n"
   ]
  },
  {
   "cell_type": "code",
   "execution_count": 35,
   "metadata": {},
   "outputs": [
    {
     "data": {
      "text/plain": [
       "<trimesh.Trimesh(vertices.shape=(42, 3), faces.shape=(80, 3))>"
      ]
     },
     "execution_count": 35,
     "metadata": {},
     "output_type": "execute_result"
    }
   ],
   "source": [
    "# creating empty list of tilesets \n",
    "\n",
    "empty_tiles_path = os.path.relpath('../data/bmc/newsaving')\n",
    "empty_tiles_meshes = []\n",
    "\n",
    "for i in range(2**8):\n",
    "    empty_tile = tm.creation.icosphere(subdivisions=1, radius=0.01)\n",
    "    empty_tiles_meshes.append(empty_tile)\n",
    "\n",
    "def emp_save_tile_meshes(empty_tiles_meshes, l_bis, tiles_path):\n",
    "\n",
    "    for tile_mesh, l_bis in zip(empty_tiles_meshes, l_bis):\n",
    "\n",
    "        for i in range (2**8):\n",
    "            c_id = i + numbertileset\n",
    "\n",
    "        # saving mesh\n",
    "            tile_mesh_path = os.path.join(tiles_path, 't_' + f'{c_id:04}' + '.obj')\n",
    "            with open(tile_mesh_path, 'w') as file:\n",
    "                file.write(tm.exchange.obj.export_obj(tile_mesh))\n",
    "            \n",
    "        return tile_mesh\n",
    "\n",
    "emp_save_tile_meshes(empty_tiles_meshes,l_bis,empty_tiles_path)\n",
    "\n"
   ]
  },
  {
   "cell_type": "code",
   "execution_count": 36,
   "metadata": {},
   "outputs": [
    {
     "name": "stderr",
     "output_type": "stream",
     "text": [
      "WARNING:root:Encountered issue in callback (most recent call last):\n",
      "  File \"C:\\Users\\sk928\\AppData\\Local\\Temp/ipykernel_26532/1824185372.py\", line 38, in create_mesh\n",
      "    p.add_mesh(tri_to_pv(mesh), color='#abd8ff', name=\"sphere\")\n",
      "NameError: name 'mesh' is not defined\n"
     ]
    },
    {
     "data": {
      "text/plain": [
       "[(1.9318516525781368, 1.9318516525781368, 1.9318516525781368),\n",
       " (0.0, 0.0, 0.0),\n",
       " (0.0, 0.0, 1.0)]"
      ]
     },
     "execution_count": 36,
     "metadata": {},
     "output_type": "execute_result"
    }
   ],
   "source": [
    "# convert mesh to pv_mesh\n",
    "def tri_to_pv(tri_mesh):\n",
    "    faces = np.pad(tri_mesh.faces, ((0, 0),(1,0)), 'constant', constant_values=3)\n",
    "    pv_mesh = pv.PolyData(tri_mesh.vertices, faces)\n",
    "    return pv_mesh\n",
    "\n",
    "p = pv.Plotter(notebook=False)\n",
    "\n",
    "base_lattice = l_bis[0]\n",
    "\n",
    "# Set the grid dimensions: shape + 1 because we want to inject our values on the CELL data\n",
    "grid = pv.UniformGrid()\n",
    "grid.dimensions = np.array(base_lattice.shape) + 1\n",
    "# The bottom left corner of the data set\n",
    "grid.origin = base_lattice.minbound - base_lattice.unit * 0.5 \n",
    "# These are the cell sizes along each axis\n",
    "grid.spacing = base_lattice.unit *0.5\n",
    "\n",
    "# adding the boundingbox wireframe\n",
    "p.add_mesh(grid.outline(), color=\"grey\", label=\"Domain\")\n",
    "\n",
    "# adding axes\n",
    "p.add_axes()\n",
    "p.show_bounds(grid=\"back\", location=\"back\", color=\"#aaaaaa\")\n",
    "\n",
    "def create_mesh(value):\n",
    "    i = int(value)\n",
    "    lattice = l_bis[i]\n",
    "\n",
    "    # Add the data values to the cell data\n",
    "    grid.cell_arrays[\"cube\"] = lattice.flatten(order=\"F\").astype(int)# Flatten the array!\n",
    "    # filtering the voxels\n",
    "    threshed = grid.threshold([.9, 1.1], scalars=\"cube\")\n",
    "    # adding the voxels\n",
    "    p.add_mesh(threshed, name='sphere2', show_edges=True, opacity=0.4, show_scalar_bar=False, color=\"C97064\")\n",
    "\n",
    "    # adding the meshes\n",
    "    p.add_mesh(tri_to_pv(mesh), color='#abd8ff', name=\"sphere\")\n",
    "\n",
    "    return\n",
    "\n",
    "p.add_slider_widget(create_mesh, [0, len(l_bis)+1], title='Tiles', value=1, event_type=\"always\", style=\"classic\", pointa=(0.1, 0.1), pointb=(0.9, 0.1))\n",
    "\n",
    "\n",
    "    \n",
    "p.show(use_ipyvtk=True)"
   ]
  }
 ],
 "metadata": {
  "interpreter": {
   "hash": "68a7181a4f576b167e74d05b5a06a28dbe4c37f8fc956ba83d8899460eb5f2a8"
  },
  "kernelspec": {
   "display_name": "Python 3.8.5 64-bit ('scds': conda)",
   "language": "python",
   "name": "python3"
  },
  "language_info": {
   "codemirror_mode": {
    "name": "ipython",
    "version": 3
   },
   "file_extension": ".py",
   "mimetype": "text/x-python",
   "name": "python",
   "nbconvert_exporter": "python",
   "pygments_lexer": "ipython3",
   "version": "3.8.5"
  },
  "orig_nbformat": 4
 },
 "nbformat": 4,
 "nbformat_minor": 2
}
