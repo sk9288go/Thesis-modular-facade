{
 "cells": [
  {
   "cell_type": "markdown",
   "metadata": {},
   "source": [
    "# Polygonization\n",
    "\n",
    "In this workshop we will learn how to convert our topological model of the building into a geometric model."
   ]
  },
  {
   "cell_type": "markdown",
   "metadata": {},
   "source": [
    "## 0. Initialization\n",
    "\n",
    "### 0.0. Importing libraries "
   ]
  },
  {
   "cell_type": "code",
   "execution_count": 121,
   "metadata": {},
   "outputs": [],
   "source": [
    "\n",
    "# pip install pyvista==0.28.1"
   ]
  },
  {
   "cell_type": "code",
   "execution_count": 122,
   "metadata": {},
   "outputs": [],
   "source": [
    "import topogenesis as tg\n",
    "import numpy as np \n",
    "import pyvista as pv\n",
    "import os\n",
    "import trimesh as tm\n",
    "import boolean_marching_cubes as bmc\n",
    "\n",
    "context_path = os.path.relpath('../data/context.obj')\n",
    "context_mesh = tm.load(context_path)"
   ]
  },
  {
   "cell_type": "markdown",
   "metadata": {},
   "source": [
    "### 0.1. Generate Symmetry Stencils"
   ]
  },
  {
   "cell_type": "code",
   "execution_count": 123,
   "metadata": {},
   "outputs": [],
   "source": [
    "# example symmetry strings\n",
    "##########################\n",
    "# sym_str = [[\"OO\"], [\"XP\"], [\"XN\"], [\"YP\"], [\"YN\"], [\"ZP\"], [\"ZN\"]]\n",
    "# sym_str = [[\"OO\"], [\"XX\"], [\"YP\"], [\"YN\"], [\"ZP\"], [\"ZN\"]]\n",
    "sym_str = [[\"OO\"], [\"XX\"], [\"YY\"], [\"ZP\"], [\"ZN\"]]\n",
    "# sym_str = [[\"OO\"], [\"XX\", \"YY\", \"ZZ\"]]\n",
    "# sym_str = [[\"OO\"]]\n",
    "\n",
    "stencils = bmc.create_symmetry_stencils(sym_str)\n",
    "\n"
   ]
  },
  {
   "cell_type": "markdown",
   "metadata": {},
   "source": [
    "### 0.2. Generate lattices for all possible cubes "
   ]
  },
  {
   "cell_type": "code",
   "execution_count": 124,
   "metadata": {},
   "outputs": [],
   "source": [
    "# generate binary representation of all the possible cubes\n",
    "l_bis = bmc.bi_cube_lattices()\n"
   ]
  },
  {
   "cell_type": "markdown",
   "metadata": {},
   "source": [
    "## 1. Profiling\n",
    "\n",
    "### 1.1. Catalogue the profile of all corners"
   ]
  },
  {
   "cell_type": "code",
   "execution_count": 125,
   "metadata": {},
   "outputs": [],
   "source": [
    "# find all unique corner arrangements based on stencils\n",
    "corner_profiles = bmc.extract_corner_profiles(stencils, l_bis)\n"
   ]
  },
  {
   "cell_type": "markdown",
   "metadata": {},
   "source": [
    "### 1.2. Find unique corner profiles"
   ]
  },
  {
   "cell_type": "code",
   "execution_count": 126,
   "metadata": {},
   "outputs": [],
   "source": [
    "# stack corner_profiles vertically\n",
    "cp_stacked = np.vstack(corner_profiles)\n",
    "\n",
    "# find the unique arrangements of corners\n",
    "uniq_corner_arang = np.unique(cp_stacked, axis=0)\n"
   ]
  },
  {
   "cell_type": "markdown",
   "metadata": {},
   "source": [
    "### 1.3. Construct unique profile latices"
   ]
  },
  {
   "cell_type": "code",
   "execution_count": 127,
   "metadata": {},
   "outputs": [],
   "source": [
    "# construct lattices for all unique corner profiles\n",
    "(corner_loc_lattices, corner_neigh_lattices) = bmc.profiles_to_lattices(uniq_corner_arang, stencils)\n"
   ]
  },
  {
   "cell_type": "markdown",
   "metadata": {},
   "source": [
    "### 1.4. Visualize unique profiles"
   ]
  },
  {
   "cell_type": "code",
   "execution_count": 151,
   "metadata": {},
   "outputs": [
    {
     "data": {
      "text/plain": [
       "[(-2.8815166382394035, 1.2484403574017255, 1.1551670702831927),\n",
       " (0.0, 0.0, 0.0),\n",
       " (0.45527889257996035, 0.2640636967169272, 0.8502890649934031)]"
      ]
     },
     "execution_count": 151,
     "metadata": {},
     "output_type": "execute_result"
    }
   ],
   "source": [
    "pv.set_plot_theme(\"document\")\n",
    "p = pv.Plotter(notebook=False)\n",
    "\n",
    "base_lattice = corner_neigh_lattices[0]\n",
    "\n",
    "# Set the grid dimensions: shape + 1 because we want to inject our values on the CELL data\n",
    "grid = pv.UniformGrid()\n",
    "grid.dimensions = np.array(base_lattice.shape) + 1\n",
    "# The bottom left corner of the data set\n",
    "grid.origin = base_lattice.minbound - base_lattice.unit * 0.5\n",
    "# These are the cell sizes along each axis\n",
    "grid.spacing = base_lattice.unit * 0.5\n",
    "\n",
    "# adding the boundingbox wireframe\n",
    "p.add_mesh(grid.outline(), color=\"grey\", label=\"Domain\")\n",
    "\n",
    "# adding axes\n",
    "p.add_axes()\n",
    "p.show_bounds(grid=\"back\", location=\"back\", color=\"#aaaaaa\")\n",
    "\n",
    "def create_mesh(value):\n",
    "    f = int(value)\n",
    "    lattice = corner_neigh_lattices[f]\n",
    "    loc = corner_loc_lattices[f]\n",
    "\n",
    "    # Add the data values to the cell data\n",
    "    grid.cell_arrays[\"filled\"] = lattice.flatten(order=\"F\").astype(int)  # Flatten the array!\n",
    "    # filtering the voxels\n",
    "    threshed = grid.threshold([.9, 1.1], scalars=\"filled\")\n",
    "    # adding the voxels\n",
    "    p.add_mesh(threshed, name='sphere', show_edges=True, opacity=0.6, show_scalar_bar=False, color =\"C86F64\")\n",
    "    \n",
    "    # Add the data values to the cell data\n",
    "    grid.cell_arrays[\"corner\"] = loc.flatten(order=\"F\").astype(int)# Flatten the array!\n",
    "    # filtering the voxels\n",
    "    threshed = grid.threshold([.9, 1.1], scalars=\"corner\")\n",
    "    # adding the voxels\n",
    "    p.add_mesh(threshed, name='sphere2', show_edges=True, opacity=0.3, show_scalar_bar=False, color=\"F4EE14\")\n",
    "\n",
    "    return\n",
    "\n",
    "p.add_slider_widget(create_mesh, [1, len(corner_neigh_lattices)], title='Arrangements', value=1, event_type=\"always\", style=\"classic\", pointa=(0.1, 0.1), pointb=(0.9, 0.1))\n",
    "\n",
    "p.show(use_ipyvtk=True)"
   ]
  },
  {
   "cell_type": "markdown",
   "metadata": {},
   "source": [
    "### 1.5. Save unique arrangement profiles "
   ]
  },
  {
   "cell_type": "code",
   "execution_count": 129,
   "metadata": {},
   "outputs": [],
   "source": [
    "# save all design templates into lattice CSVs\n",
    "templates_path = os.path.relpath('../data/bmc/bmc_templates1')\n",
    "bmc.save_design_templates(corner_loc_lattices, corner_neigh_lattices, templates_path)\n"
   ]
  },
  {
   "cell_type": "markdown",
   "metadata": {},
   "source": [
    "## 2. Construct the tile-set\n",
    "\n",
    "### 2.1. Load sub-tile meshes"
   ]
  },
  {
   "cell_type": "code",
   "execution_count": 130,
   "metadata": {},
   "outputs": [],
   "source": [
    "# load subtile meshes\n",
    "Facade_meshes = []\n",
    "for c in range(len(corner_loc_lattices)):\n",
    "    corner_mesh_path = os.path.relpath('../data/bmc/BMC_DUMMY_TILESET/t_' + f'{c:02}' + '.obj')\n",
    "    corner_mesh = tm.load(corner_mesh_path)\n",
    "    Facade_meshes.append(corner_mesh)\n",
    "\n"
   ]
  },
  {
   "cell_type": "markdown",
   "metadata": {},
   "source": [
    "### 2.2. Combine sub-tile meshes to create tile meshes"
   ]
  },
  {
   "cell_type": "code",
   "execution_count": 131,
   "metadata": {},
   "outputs": [],
   "source": [
    "tiles_meshes = bmc.construct_tile_meshes_old(Facade_meshes, corner_profiles, uniq_corner_arang, corner_loc_lattices)\n",
    "#tiles_meshes = construct_tile_meshes(subtile_meshes, corner_profiles, uniq_corner_arang, corner_loc_lattices)\n"
   ]
  },
  {
   "cell_type": "markdown",
   "metadata": {},
   "source": [
    "### 2.3. Visualize tile meshes"
   ]
  },
  {
   "cell_type": "code",
   "execution_count": 154,
   "metadata": {},
   "outputs": [
    {
     "name": "stderr",
     "output_type": "stream",
     "text": [
      "WARNING:root:Encountered issue in callback (most recent call last):\n",
      "  File \"C:\\Users\\sk928\\AppData\\Local\\Temp/ipykernel_42840/1851846467.py\", line 28, in create_mesh\n",
      "    mesh = tiles_meshes[i]\n",
      "IndexError: list index out of range\n",
      "WARNING:root:Encountered issue in callback (most recent call last):\n",
      "  File \"C:\\Users\\sk928\\AppData\\Local\\Temp/ipykernel_42840/1851846467.py\", line 28, in create_mesh\n",
      "    mesh = tiles_meshes[i]\n",
      "IndexError: list index out of range\n",
      "WARNING:root:Encountered issue in callback (most recent call last):\n",
      "  File \"C:\\Users\\sk928\\AppData\\Local\\Temp/ipykernel_42840/1851846467.py\", line 28, in create_mesh\n",
      "    mesh = tiles_meshes[i]\n",
      "IndexError: list index out of range\n",
      "WARNING:root:Encountered issue in callback (most recent call last):\n",
      "  File \"C:\\Users\\sk928\\AppData\\Local\\Temp/ipykernel_42840/1851846467.py\", line 28, in create_mesh\n",
      "    mesh = tiles_meshes[i]\n",
      "IndexError: list index out of range\n",
      "WARNING:root:Encountered issue in callback (most recent call last):\n",
      "  File \"C:\\Users\\sk928\\AppData\\Local\\Temp/ipykernel_42840/1851846467.py\", line 28, in create_mesh\n",
      "    mesh = tiles_meshes[i]\n",
      "IndexError: list index out of range\n",
      "WARNING:root:Encountered issue in callback (most recent call last):\n",
      "  File \"C:\\Users\\sk928\\AppData\\Local\\Temp/ipykernel_42840/1851846467.py\", line 28, in create_mesh\n",
      "    mesh = tiles_meshes[i]\n",
      "IndexError: list index out of range\n",
      "WARNING:root:Encountered issue in callback (most recent call last):\n",
      "  File \"C:\\Users\\sk928\\AppData\\Local\\Temp/ipykernel_42840/1851846467.py\", line 28, in create_mesh\n",
      "    mesh = tiles_meshes[i]\n",
      "IndexError: list index out of range\n",
      "WARNING:root:Encountered issue in callback (most recent call last):\n",
      "  File \"C:\\Users\\sk928\\AppData\\Local\\Temp/ipykernel_42840/1851846467.py\", line 28, in create_mesh\n",
      "    mesh = tiles_meshes[i]\n",
      "IndexError: list index out of range\n",
      "WARNING:root:Encountered issue in callback (most recent call last):\n",
      "  File \"C:\\Users\\sk928\\AppData\\Local\\Temp/ipykernel_42840/1851846467.py\", line 28, in create_mesh\n",
      "    mesh = tiles_meshes[i]\n",
      "IndexError: list index out of range\n",
      "WARNING:root:Encountered issue in callback (most recent call last):\n",
      "  File \"C:\\Users\\sk928\\AppData\\Local\\Temp/ipykernel_42840/1851846467.py\", line 28, in create_mesh\n",
      "    mesh = tiles_meshes[i]\n",
      "IndexError: list index out of range\n",
      "WARNING:root:Encountered issue in callback (most recent call last):\n",
      "  File \"C:\\Users\\sk928\\AppData\\Local\\Temp/ipykernel_42840/1851846467.py\", line 28, in create_mesh\n",
      "    mesh = tiles_meshes[i]\n",
      "IndexError: list index out of range\n"
     ]
    }
   ],
   "source": [
    "# convert mesh to pv_mesh\n",
    "def tri_to_pv(tri_mesh):\n",
    "    faces = np.pad(tri_mesh.faces, ((0, 0),(1,0)), 'constant', constant_values=3)\n",
    "    pv_mesh = pv.PolyData(tri_mesh.vertices, faces)\n",
    "    return pv_mesh\n",
    "pv.set_plot_theme(\"document\")\n",
    "p = pv.Plotter(notebook=False)\n",
    "\n",
    "base_lattice = l_bis[0]\n",
    "\n",
    "# Set the grid dimensions: shape + 1 because we want to inject our values on the CELL data\n",
    "grid = pv.UniformGrid()\n",
    "grid.dimensions = np.array(base_lattice.shape) + 1\n",
    "# The bottom left corner of the data set\n",
    "grid.origin = base_lattice.minbound - base_lattice.unit * 0.5\n",
    "# These are the cell sizes along each axis\n",
    "grid.spacing = base_lattice.unit *0.5\n",
    "\n",
    "# adding the boundingbox wireframe\n",
    "p.add_mesh(grid.outline(), color=\"grey\", label=\"Domain\")\n",
    "\n",
    "# adding axes\n",
    "p.add_axes()\n",
    "p.show_bounds(grid=\"back\", location=\"back\", color=\"#aaaaaa\")\n",
    "\n",
    "def create_mesh(value):\n",
    "    i = int(value)\n",
    "    mesh = tiles_meshes[i]\n",
    "    lattice = l_bis[i]\n",
    "\n",
    "    # Add the data values to the cell data\n",
    "    grid.cell_arrays[\"cube\"] = lattice.flatten(order=\"F\").astype(int)# Flatten the array!\n",
    "    # filtering the voxels\n",
    "    threshed = grid.threshold([.9, 1.1], scalars=\"cube\")\n",
    "    # adding the voxels\n",
    "    p.add_mesh(threshed, name='sphere2', show_edges=True, opacity=0.2, show_scalar_bar=False, color=\"C86F64\")\n",
    "\n",
    "    # adding the meshes\n",
    "    p.add_mesh(tri_to_pv(mesh), color='#463E5F', name=\"sphere\")\n",
    "\n",
    "    return\n",
    "\n",
    "p.add_slider_widget(create_mesh, [0, len(tiles_meshes)], title='Tiles', value=1, event_type=\"always\", style=\"classic\", pointa=(0.1, 0.1), pointb=(0.9, 0.1))\n",
    "\n",
    "p.show(use_ipyvtk=True)"
   ]
  },
  {
   "cell_type": "markdown",
   "metadata": {},
   "source": [
    "### 2.4. Save the tile-set"
   ]
  },
  {
   "cell_type": "code",
   "execution_count": 133,
   "metadata": {},
   "outputs": [],
   "source": [
    "tiles_path = os.path.relpath('../data/bmc/BMC_DUMMY_256')\n",
    "bmc.save_tile_meshes(tiles_meshes, l_bis, tiles_path)\n"
   ]
  },
  {
   "cell_type": "markdown",
   "metadata": {},
   "source": [
    "## 3. Boolean Marching Cube\n",
    "\n",
    "### 3.1. Load envelope lattice"
   ]
  },
  {
   "cell_type": "code",
   "execution_count": 134,
   "metadata": {},
   "outputs": [
    {
     "name": "stdout",
     "output_type": "stream",
     "text": [
      "(24, 14, 7)\n",
      "(26, 16, 9)\n"
     ]
    }
   ],
   "source": [
    "# loading the lattice from csv\n",
    "lattice_path = os.path.relpath('../data/Solar_env_79.csv')\n",
    "envelope_lattice = tg.lattice_from_csv(lattice_path)\n",
    "print(envelope_lattice.shape)\n",
    "padded_env_arr = np.pad(envelope_lattice, 1, mode=\"constant\", constant_values=False)\n",
    "padded_minbound = envelope_lattice.minbound - envelope_lattice.unit\n",
    "envelope_lattice = tg.to_lattice(padded_env_arr, minbound=padded_minbound, unit=envelope_lattice.unit)\n",
    "print(envelope_lattice.shape)"
   ]
  },
  {
   "cell_type": "code",
   "execution_count": 135,
   "metadata": {},
   "outputs": [],
   "source": [
    "# # create the stencil\n",
    "# s = tg.create_stencil(\"von_neumann\", 1, 1)\n",
    "# s.set_index([0,0,0], 0)\n",
    "# p = pv.Plotter(notebook=True)\n",
    "# # add the sum function to the stencil\n",
    "# s.function = tg.sfunc.sum \n",
    "\n",
    "# # apply the stencil on the lattice\n",
    "# neighbor_sum = envelope_lattice.apply_stencil(s)\n",
    "\n",
    "# # remove if 6\n",
    "# facade_lattice = envelope_lattice * (neighbor_sum <= 5)\n",
    "# ground_floor_lattice = facade_lattice * 0\n",
    "# ground_floor_lattice = facade_lattice[:,:,:1] = 1\n",
    "\n",
    "# ground_floor_lattice = facade_lattice * 0\n",
    "# ground_floor_lattice[:,:,:1] = 1\n",
    "# ground_floor_lattice *= facade_lattice\n",
    "\n",
    "# p = ground_floor_lattice.fast_vis(p)\n",
    "# p.show(use_ipyvtk=True)\n"
   ]
  },
  {
   "cell_type": "code",
   "execution_count": 136,
   "metadata": {},
   "outputs": [],
   "source": [
    "# # Finding the index of the available voxels in avail_lattice\n",
    "# avail_index = np.array(np.where(facade_lattice == 1)).T\n",
    "\n",
    "# for vox_1d_ind in avail_index:\n",
    "#     vox_3d_ind = np.unravel_index(vox_1d_ind, envelope_lattice.shape)\n",
    "#     VX, VY, VZ = vox_3d_ind\n",
    "\n",
    "\n",
    "# # Ground Floor\n",
    "# ground_floor_lattice = facade_lattice * 0\n",
    "# ground_floor_lattice[:,:,:1] = 1\n",
    "# #ground_floor_lattice *= facade_lattice\n",
    "\n",
    "# p = pv.Plotter(notebook=True)\n",
    "# p = ground_floor_lattice.fast_vis(p)\n",
    "# p.show(use_ipyvtk=True)"
   ]
  },
  {
   "cell_type": "markdown",
   "metadata": {},
   "source": [
    "### 3.2. Extract the cube lattice from the envelope lattice"
   ]
  },
  {
   "cell_type": "code",
   "execution_count": 137,
   "metadata": {},
   "outputs": [],
   "source": [
    "cube_lattice = envelope_lattice.boolean_marching_cubes()"
   ]
  },
  {
   "cell_type": "code",
   "execution_count": 138,
   "metadata": {},
   "outputs": [],
   "source": [
    "# cube_lattice[7:9, :10, 0] += 256"
   ]
  },
  {
   "cell_type": "code",
   "execution_count": 139,
   "metadata": {},
   "outputs": [],
   "source": [
    "# cube_lattice[:12, :12, 0]"
   ]
  },
  {
   "cell_type": "markdown",
   "metadata": {},
   "source": [
    "### 3.3. tile the cube lattice with a tileset"
   ]
  },
  {
   "cell_type": "code",
   "execution_count": 140,
   "metadata": {},
   "outputs": [],
   "source": [
    "\n",
    "facade_tiles_path1 = os.path.relpath('../data/bmc/BMC_DUMMY_256')\n",
    "\n",
    "\n",
    "bmc_facademesh = bmc.marching_cube_mesh(cube_lattice, facade_tiles_path1)\n"
   ]
  },
  {
   "cell_type": "markdown",
   "metadata": {},
   "source": [
    "### 3.4. Visualize the final mesh"
   ]
  },
  {
   "cell_type": "code",
   "execution_count": 141,
   "metadata": {},
   "outputs": [
    {
     "data": {
      "text/plain": [
       "[(680.7454449076029, 141.10004266238133, 54.96150879092372),\n",
       " (646.0, 330.0, 8.0),\n",
       " (-0.04666339470490443, 0.2732069464958529, 0.960822820285315)]"
      ]
     },
     "execution_count": 141,
     "metadata": {},
     "output_type": "execute_result"
    }
   ],
   "source": [
    "# convert mesh to pv_mesh\n",
    "def tri_to_pv(tri_mesh):\n",
    "    faces = np.pad(tri_mesh.faces, ((0, 0),(1,0)), 'constant', constant_values=3)\n",
    "    pv_mesh = pv.PolyData(tri_mesh.vertices, faces)\n",
    "    return pv_mesh\n",
    "\n",
    "# initiating the plotter\n",
    "p = pv.Plotter(notebook=False)\n",
    "\n",
    "# # adding the meshes\n",
    "p.add_mesh(tri_to_pv(bmc_facademesh), color='#638275', name=\"sphere\", opacity=1)\n",
    "# # fast visualization of the lattice\n",
    "p = envelope_lattice.fast_vis(p)\n",
    "# p.add_mesh(tri_to_pv(context_mesh), style='surface')\n",
    "#p.add_mesh(tri_to_pv(bmc_facademesh), style ='surface',opacity=1)\n",
    "# plotting\n",
    "p.show(use_ipyvtk=True)"
   ]
  },
  {
   "cell_type": "markdown",
   "metadata": {},
   "source": [
    "### 3.5. Save the final mesh"
   ]
  },
  {
   "cell_type": "code",
   "execution_count": 142,
   "metadata": {},
   "outputs": [],
   "source": [
    "# final_mesh_path = os.path.relpath('../data/final_mesh.obj')\n",
    "\n",
    "# with open(final_mesh_path, 'w') as file:\n",
    "#         file.write(tm.exchange.obj.export_obj(bmc_facademesh))"
   ]
  },
  {
   "cell_type": "markdown",
   "metadata": {},
   "source": [
    "### Credits"
   ]
  },
  {
   "cell_type": "code",
   "execution_count": 143,
   "metadata": {},
   "outputs": [],
   "source": [
    "__author__ = \"Shervin Azadi\"\n",
    "__license__ = \"MIT\"\n",
    "__version__ = \"1.0\"\n",
    "__url__ = \"https://github.com/shervinazadi/spatial_computing_workshops\"\n",
    "__summary__ = \"Spatial Computing Design Studio Workshop on Polygonization\""
   ]
  },
  {
   "cell_type": "code",
   "execution_count": null,
   "metadata": {},
   "outputs": [],
   "source": []
  }
 ],
 "metadata": {
  "kernelspec": {
   "display_name": "Python 3.8.5 64-bit ('sc_workshops': conda)",
   "metadata": {
    "interpreter": {
     "hash": "787ea478c22349cf73d867deb0a19fc58e75e9742a9aed6f48d06cc412ad6e3b"
    }
   },
   "name": "python3"
  },
  "language_info": {
   "codemirror_mode": {
    "name": "ipython",
    "version": 3
   },
   "file_extension": ".py",
   "mimetype": "text/x-python",
   "name": "python",
   "nbconvert_exporter": "python",
   "pygments_lexer": "ipython3",
   "version": "3.8.5"
  },
  "orig_nbformat": 2
 },
 "nbformat": 4,
 "nbformat_minor": 2
}
