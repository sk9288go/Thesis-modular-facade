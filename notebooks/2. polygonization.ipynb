{
 "cells": [
  {
   "cell_type": "code",
   "execution_count": null,
   "metadata": {},
   "outputs": [],
   "source": [
    "import topogenesis as tg\n",
    "import numpy as np \n",
    "import pyvista as pv\n",
    "import os\n",
    "import trimesh as tm\n",
    "import boolean_marching_cubes as bmc"
   ]
  },
  {
   "cell_type": "code",
   "execution_count": null,
   "metadata": {},
   "outputs": [],
   "source": [
    "lattice_path = os.path.relpath('../data/voxelized_envelope_toy.csv')\n",
    "envelope_lattice = tg.lattice_from_csv(lattice_path)\n",
    "cube_lattice = envelope_lattice.boolean_marching_cubes()"
   ]
  },
  {
   "cell_type": "code",
   "execution_count": null,
   "metadata": {},
   "outputs": [],
   "source": [
    "def tri_to_pv(tri_mesh):\n",
    "    faces = np.pad(tri_mesh.faces, ((0, 0),(1,0)), 'constant', constant_values=3)\n",
    "    pv_mesh = pv.PolyData(tri_mesh.vertices, faces)\n",
    "    return pv_mesh"
   ]
  },
  {
   "cell_type": "markdown",
   "metadata": {},
   "source": [
    "# i'm trying to save directly to template folder from rhino but the end results is coming out very different from what i expected "
   ]
  },
  {
   "cell_type": "code",
   "execution_count": null,
   "metadata": {},
   "outputs": [],
   "source": [
    "# loading the lattice from csv\n",
    "lattice_path = os.path.relpath('../data/voxelized_envelope_toy.csv')\n",
    "envelope_lattice = tg.lattice_from_csv(lattice_path)\n",
    "print(envelope_lattice.shape)\n",
    "padded_env_arr = np.pad(envelope_lattice, 1, mode=\"constant\", constant_values=False)\n",
    "padded_minbound = envelope_lattice.minbound - envelope_lattice.unit\n",
    "envelope_lattice = tg.to_lattice(padded_env_arr, minbound=padded_minbound, unit=envelope_lattice.unit)\n",
    "print(envelope_lattice.shape)\n"
   ]
  },
  {
   "cell_type": "code",
   "execution_count": null,
   "metadata": {},
   "outputs": [],
   "source": [
    "def boolean_marching_cubes(l):\n",
    "    \"\"\"This is a polygonization method. It converts the lattice to a boolean lattice and runs a boolean marching cube on the lattice. \n",
    "\n",
    "    Returns:\n",
    "        topogenesis.Lattice: an integer lattice that contains the tile-id at each cell\n",
    "    \"\"\"\n",
    "\n",
    "    # construct the boolean_marching_cubes stencil\n",
    "    mc_stencil = tg.create_stencil(\"boolean_marching_cube\", 1)\n",
    "    # retrieve the value of the neighbours\n",
    "    cell_corners = l.find_neighbours(mc_stencil, order=\"C\")\n",
    "    # converting volume value (TODO: this needs to become a method of its own)\n",
    "    volume_flat = l.ravel()\n",
    "    volume_flat[volume_flat > 0.0] = 1\n",
    "    volume_flat[volume_flat <= 0.0] = 0\n",
    "\n",
    "    # replace neighbours by their value in volume\n",
    "    neighbor_values = volume_flat[cell_corners]\n",
    "\n",
    "    # computing the cell tile id\n",
    "    # the powers of 2 in an array\n",
    "    legend = np.flip(2**np.arange(8))\n",
    "\n",
    "    # multiply the corner with the power of two, sum them, and reshape to the original volume shape\n",
    "    tile_id = np.sum(legend * neighbor_values,\n",
    "                        axis=1).reshape(l.shape)\n",
    "\n",
    "    # drop the last column, row and page (since cube-grid is 1 less than the voxel grid in every dimension)\n",
    "    # TODO consider that by implementing the origin attribute in lattice this may have to change\n",
    "    cube_grid = tile_id[:-1, :-1, :-1]\n",
    "\n",
    "    # convert the array to lattice\n",
    "    cube_lattice = tg.to_lattice(\n",
    "        cube_grid, minbound=l.minbound, unit=l.unit)\n",
    "\n",
    "    return cube_lattice"
   ]
  },
  {
   "cell_type": "code",
   "execution_count": null,
   "metadata": {},
   "outputs": [],
   "source": [
    "cube_lattice = boolean_marching_cubes(envelope_lattice)"
   ]
  },
  {
   "cell_type": "code",
   "execution_count": null,
   "metadata": {},
   "outputs": [],
   "source": [
    "facade_tiles_path1 = os.path.relpath('../data/bmc/BMC_DUMMY_256')\n",
    "bmc_facademesh = bmc.marching_cube_mesh(cube_lattice, facade_tiles_path1)"
   ]
  },
  {
   "cell_type": "code",
   "execution_count": null,
   "metadata": {},
   "outputs": [],
   "source": [
    "\n",
    "# initiating the plotter\n",
    "p = pv.Plotter()\n",
    "\n",
    "# # adding the meshes\n",
    "p.add_mesh(tri_to_pv(bmc_facademesh), color='#638275', name=\"sphere\", opacity=1)\n",
    "# # fast visualization of the lattice\n",
    "p = envelope_lattice.fast_vis(p)\n",
    "# p.add_mesh(tri_to_pv(context_mesh), style='surface')\n",
    "#p.add_mesh(tri_to_pv(bmc_facademesh), style ='surface',opacity=1)\n",
    "# plotting\n",
    "p.add_axes()\n",
    "p.show(use_ipyvtk=True)"
   ]
  },
  {
   "cell_type": "code",
   "execution_count": null,
   "metadata": {},
   "outputs": [],
   "source": []
  }
 ],
 "metadata": {
  "interpreter": {
   "hash": "68a7181a4f576b167e74d05b5a06a28dbe4c37f8fc956ba83d8899460eb5f2a8"
  },
  "kernelspec": {
   "display_name": "Python 3.8.5 64-bit ('scds': conda)",
   "language": "python",
   "name": "python3"
  },
  "language_info": {
   "codemirror_mode": {
    "name": "ipython",
    "version": 3
   },
   "file_extension": ".py",
   "mimetype": "text/x-python",
   "name": "python",
   "nbconvert_exporter": "python",
   "pygments_lexer": "ipython3",
   "version": "3.8.5"
  },
  "orig_nbformat": 4
 },
 "nbformat": 4,
 "nbformat_minor": 2
}
