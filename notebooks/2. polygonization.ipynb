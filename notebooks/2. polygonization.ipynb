{
 "cells": [
  {
   "cell_type": "code",
   "execution_count": 12,
   "metadata": {},
   "outputs": [],
   "source": [
    "import topogenesis as tg\n",
    "import numpy as np \n",
    "import pyvista as pv\n",
    "import os\n",
    "import trimesh as tm\n",
    "import boolean_marching_cubes as bmc"
   ]
  },
  {
   "cell_type": "code",
   "execution_count": 13,
   "metadata": {},
   "outputs": [],
   "source": [
    "lattice_path = os.path.relpath('../data/voxelized_envelope_toy.csv')\n",
    "envelope_lattice = tg.lattice_from_csv(lattice_path)\n",
    "cube_lattice = envelope_lattice.boolean_marching_cubes()"
   ]
  },
  {
   "cell_type": "code",
   "execution_count": 14,
   "metadata": {},
   "outputs": [],
   "source": [
    "def tri_to_pv(tri_mesh):\n",
    "    faces = np.pad(tri_mesh.faces, ((0, 0),(1,0)), 'constant', constant_values=3)\n",
    "    pv_mesh = pv.PolyData(tri_mesh.vertices, faces)\n",
    "    return pv_mesh"
   ]
  },
  {
   "cell_type": "markdown",
   "metadata": {},
   "source": [
    "# i'm trying to save directly to template folder from rhino but the end results is coming out very different from what i expected "
   ]
  },
  {
   "cell_type": "code",
   "execution_count": 15,
   "metadata": {},
   "outputs": [
    {
     "name": "stdout",
     "output_type": "stream",
     "text": [
      "(2, 3, 3)\n",
      "(4, 5, 5)\n"
     ]
    }
   ],
   "source": [
    "# loading the lattice from csv\n",
    "lattice_path = os.path.relpath('../data/voxelized_envelope_toy.csv')\n",
    "envelope_lattice = tg.lattice_from_csv(lattice_path)\n",
    "print(envelope_lattice.shape)\n",
    "padded_env_arr = np.pad(envelope_lattice, 1, mode=\"constant\", constant_values=False)\n",
    "padded_minbound = envelope_lattice.minbound - envelope_lattice.unit\n",
    "envelope_lattice = tg.to_lattice(padded_env_arr, minbound=padded_minbound, unit=envelope_lattice.unit)\n",
    "print(envelope_lattice.shape)\n",
    "\n",
    "cube_lattice = envelope_lattice.boolean_marching_cubes()"
   ]
  },
  {
   "cell_type": "code",
   "execution_count": 16,
   "metadata": {},
   "outputs": [
    {
     "data": {
      "text/plain": [
       "[(43.465229168543885, 56.655251573783346, 28.588817309284778),\n",
       " (23.760000705718994, 30.24000072479248, 3.131999969482422),\n",
       " (-0.3313205651192685, -0.4722291042347325, 0.816839247491641)]"
      ]
     },
     "execution_count": 16,
     "metadata": {},
     "output_type": "execute_result"
    }
   ],
   "source": [
    "facade_tiles_path1 = os.path.relpath('../data/bmc/BMC_DUMMY_256')\n",
    "bmc_facademesh = bmc.marching_cube_mesh(cube_lattice, facade_tiles_path1)\n",
    "# convert mesh to pv_mesh\n",
    "def tri_to_pv(tri_mesh):\n",
    "    faces = np.pad(tri_mesh.faces, ((0, 0),(1,0)), 'constant', constant_values=3)\n",
    "    pv_mesh = pv.PolyData(tri_mesh.vertices, faces)\n",
    "    return pv_mesh\n",
    "\n",
    "# initiating the plotter\n",
    "p = pv.Plotter(notebook=False)\n",
    "\n",
    "# # adding the meshes\n",
    "p.add_mesh(tri_to_pv(bmc_facademesh), color='#638275', name=\"sphere\", opacity=1)\n",
    "# # fast visualization of the lattice\n",
    "p = envelope_lattice.fast_vis(p)\n",
    "# p.add_mesh(tri_to_pv(context_mesh), style='surface')\n",
    "#p.add_mesh(tri_to_pv(bmc_facademesh), style ='surface',opacity=1)\n",
    "# plotting\n",
    "p.show(use_ipyvtk=True)"
   ]
  }
 ],
 "metadata": {
  "interpreter": {
   "hash": "68a7181a4f576b167e74d05b5a06a28dbe4c37f8fc956ba83d8899460eb5f2a8"
  },
  "kernelspec": {
   "display_name": "Python 3.8.5 64-bit ('scds': conda)",
   "language": "python",
   "name": "python3"
  },
  "language_info": {
   "codemirror_mode": {
    "name": "ipython",
    "version": 3
   },
   "file_extension": ".py",
   "mimetype": "text/x-python",
   "name": "python",
   "nbconvert_exporter": "python",
   "pygments_lexer": "ipython3",
   "version": "3.8.5"
  },
  "orig_nbformat": 4
 },
 "nbformat": 4,
 "nbformat_minor": 2
}
