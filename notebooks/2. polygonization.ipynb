{
 "cells": [
  {
   "cell_type": "code",
   "execution_count": 38,
   "metadata": {},
   "outputs": [],
   "source": [
    "import topogenesis as tg\n",
    "import numpy as np \n",
    "import pyvista as pv\n",
    "import os\n",
    "import trimesh as tm\n",
    "import boolean_marching_cubes as bmc"
   ]
  },
  {
   "cell_type": "code",
   "execution_count": 39,
   "metadata": {},
   "outputs": [],
   "source": [
    "lattice_path = os.path.relpath('../data/voxelized_envelope_toy_copy.csv')\n",
    "envelope_lattice = tg.lattice_from_csv(lattice_path)\n",
    "cube_lattice = envelope_lattice.boolean_marching_cubes()"
   ]
  },
  {
   "cell_type": "code",
   "execution_count": 40,
   "metadata": {},
   "outputs": [],
   "source": [
    "def tri_to_pv(tri_mesh):\n",
    "    faces = np.pad(tri_mesh.faces, ((0, 0),(1,0)), 'constant', constant_values=3)\n",
    "    pv_mesh = pv.PolyData(tri_mesh.vertices, faces)\n",
    "    return pv_mesh"
   ]
  },
  {
   "cell_type": "markdown",
   "metadata": {},
   "source": [
    "# i'm trying to save directly to template folder from rhino but the end results is coming out very different from what i expected "
   ]
  },
  {
   "cell_type": "code",
   "execution_count": 41,
   "metadata": {},
   "outputs": [
    {
     "name": "stdout",
     "output_type": "stream",
     "text": [
      "(6, 6, 5)\n",
      "(8, 8, 7)\n"
     ]
    }
   ],
   "source": [
    "# loading the lattice from csv\n",
    "lattice_path = os.path.relpath('../data/voxelized_envelope_low.csv')\n",
    "envelope_lattice = tg.lattice_from_csv(lattice_path)\n",
    "print(envelope_lattice.shape)\n",
    "padded_env_arr = np.pad(envelope_lattice, 1, mode=\"constant\", constant_values=False)\n",
    "padded_minbound = envelope_lattice.minbound - envelope_lattice.unit\n",
    "envelope_lattice = tg.to_lattice(padded_env_arr, minbound=padded_minbound, unit=envelope_lattice.unit)\n",
    "print(envelope_lattice.shape)\n"
   ]
  },
  {
   "cell_type": "code",
   "execution_count": 42,
   "metadata": {},
   "outputs": [],
   "source": [
    "def boolean_marching_cubes(l):\n",
    "    \"\"\"This is a polygonization method. It converts the lattice to a boolean lattice and runs a boolean marching cube on the lattice. \n",
    "\n",
    "    Returns:\n",
    "        topogenesis.Lattice: an integer lattice that contains the tile-id at each cell\n",
    "    \"\"\"\n",
    "\n",
    "    # construct the boolean_marching_cubes stencil\n",
    "    mc_stencil = tg.create_stencil(\"boolean_marching_cube\", 1)\n",
    "    # retrieve the value of the neighbours\n",
    "    cell_corners = l.find_neighbours(mc_stencil, order=\"C\")\n",
    "    # converting volume value (TODO: this needs to become a method of its own)\n",
    "    volume_flat = l.ravel()\n",
    "    volume_flat[volume_flat > 0.0] = 1\n",
    "    volume_flat[volume_flat <= 0.0] = 0\n",
    "\n",
    "    # replace neighbours by their value in volume\n",
    "    neighbor_values = volume_flat[cell_corners]\n",
    "\n",
    "    # computing the cell tile id\n",
    "    # the powers of 2 in an array\n",
    "    legend = np.flip(2**np.arange(8))\n",
    "\n",
    "    # multiply the corner with the power of two, sum them, and reshape to the original volume shape\n",
    "    tile_id = np.sum(legend * neighbor_values,\n",
    "                        axis=1).reshape(l.shape)\n",
    "\n",
    "    # drop the last column, row and page (since cube-grid is 1 less than the voxel grid in every dimension)\n",
    "    # TODO consider that by implementing the origin attribute in lattice this may have to change\n",
    "    cube_grid = tile_id[:-1, :-1, :-1]\n",
    "\n",
    "    # convert the array to lattice\n",
    "    cube_lattice = tg.to_lattice(\n",
    "        cube_grid, minbound=l.minbound, unit=l.unit)\n",
    "\n",
    "    return cube_lattice"
   ]
  },
  {
   "cell_type": "code",
   "execution_count": 43,
   "metadata": {},
   "outputs": [
    {
     "data": {
      "text/plain": [
       "lattice([[[510, 510, 510,   0,   0,   0],\n",
       "          [510, 510, 510,   0,   0,   0],\n",
       "          [510, 510, 510,   0,   0,   0],\n",
       "          [510, 510, 510,   0,   0,   0],\n",
       "          [  0,   0,   0,   0,   0,   0],\n",
       "          [  0,   0,   0,   0,   0,   0],\n",
       "          [  0,   0,   0,   0,   0,   0]],\n",
       "\n",
       "         [[510, 510, 510,   0,   0,   0],\n",
       "          [511, 513, 513,   3,   2,   0],\n",
       "          [515, 525, 525,  15,  10,   0],\n",
       "          [515, 525, 524,  12,   8,   0],\n",
       "          [  5,  15,  10,   0,   0,   0],\n",
       "          [  4,  12,   8,   0,   0,   0],\n",
       "          [  0,   0,   0,   0,   0,   0]],\n",
       "\n",
       "         [[510, 510, 510,   0,   0,   0],\n",
       "          [527, 561, 561,  50,  32,   0],\n",
       "          [595, 765, 765, 250, 160,   0],\n",
       "          [595, 765, 748, 200, 128,   0],\n",
       "          [ 84, 252, 168,   0,   0,   0],\n",
       "          [ 64, 192, 128,   0,   0,   0],\n",
       "          [  0,   0,   0,   0,   0,   0]],\n",
       "\n",
       "         [[  0,   0,   0,   0,   0,   0],\n",
       "          [ 17,  51,  50,  32,   0,   0],\n",
       "          [ 85, 255, 250, 160,   0,   0],\n",
       "          [ 85, 255, 234, 128,   0,   0],\n",
       "          [ 68, 204, 136,   0,   0,   0],\n",
       "          [  0,   0,   0,   0,   0,   0],\n",
       "          [  0,   0,   0,   0,   0,   0]],\n",
       "\n",
       "         [[  0,   0,   0,   0,   0,   0],\n",
       "          [ 17,  51,  34,   0,   0,   0],\n",
       "          [ 85, 255, 170,   0,   0,   0],\n",
       "          [ 84, 252, 168,   0,   0,   0],\n",
       "          [ 64, 192, 128,   0,   0,   0],\n",
       "          [  0,   0,   0,   0,   0,   0],\n",
       "          [  0,   0,   0,   0,   0,   0]],\n",
       "\n",
       "         [[  0,   0,   0,   0,   0,   0],\n",
       "          [ 16,  48,  32,   0,   0,   0],\n",
       "          [ 80, 240, 160,   0,   0,   0],\n",
       "          [ 64, 192, 128,   0,   0,   0],\n",
       "          [  0,   0,   0,   0,   0,   0],\n",
       "          [  0,   0,   0,   0,   0,   0],\n",
       "          [  0,   0,   0,   0,   0,   0]],\n",
       "\n",
       "         [[  0,   0,   0,   0,   0,   0],\n",
       "          [  0,   0,   0,   0,   0,   0],\n",
       "          [  0,   0,   0,   0,   0,   0],\n",
       "          [  0,   0,   0,   0,   0,   0],\n",
       "          [  0,   0,   0,   0,   0,   0],\n",
       "          [  0,   0,   0,   0,   0,   0],\n",
       "          [  0,   0,   0,   0,   0,   0]]], dtype=int32)"
      ]
     },
     "execution_count": 43,
     "metadata": {},
     "output_type": "execute_result"
    }
   ],
   "source": [
    "cube_lattice = boolean_marching_cubes(envelope_lattice)\n",
    "\n",
    "#[x,y,height]\n",
    "cube_lattice[:3, :4,:3] += 510\n",
    "# cube_lattice[::2, :5, 3:] += 255\n",
    "cube_lattice"
   ]
  },
  {
   "cell_type": "code",
   "execution_count": 44,
   "metadata": {},
   "outputs": [
    {
     "name": "stdout",
     "output_type": "stream",
     "text": [
      "1618006 2423196\n"
     ]
    }
   ],
   "source": [
    "facade_tiles_path1 = os.path.relpath('../data/bmc/newsaving')\n",
    "bmc_facademesh = bmc.marching_cube_mesh(cube_lattice, facade_tiles_path1)"
   ]
  },
  {
   "cell_type": "code",
   "execution_count": 45,
   "metadata": {},
   "outputs": [
    {
     "data": {
      "text/plain": [
       "[(-283.60707528241517, -66.70048598092895, 109.3200841271095),\n",
       " (95.04000186920166, 77.76000261306763, 25.055999755859375),\n",
       " (0.1079935935790274, 0.27431485438400455, 0.9555567719451159)]"
      ]
     },
     "execution_count": 45,
     "metadata": {},
     "output_type": "execute_result"
    }
   ],
   "source": [
    "\n",
    "# initiating the plotter\n",
    "p = pv.Plotter(notebook=False)\n",
    "\n",
    "# # adding the meshes\n",
    "p.add_mesh(tri_to_pv(bmc_facademesh), color='#638275', name=\"sphere\", opacity=1)\n",
    "# # fast visualization of the lattice\n",
    "p = envelope_lattice.fast_vis(p)\n",
    "# p.add_mesh(tri_to_pv(context_mesh), style='surface')\n",
    "#p.add_mesh(tri_to_pv(bmc_facademesh), style ='surface',opacity=1)\n",
    "# plotting\n",
    "p.add_axes()\n",
    "p.show(use_ipyvtk=True)"
   ]
  }
 ],
 "metadata": {
  "interpreter": {
   "hash": "68a7181a4f576b167e74d05b5a06a28dbe4c37f8fc956ba83d8899460eb5f2a8"
  },
  "kernelspec": {
   "display_name": "Python 3.8.5 64-bit ('scds': conda)",
   "language": "python",
   "name": "python3"
  },
  "language_info": {
   "codemirror_mode": {
    "name": "ipython",
    "version": 3
   },
   "file_extension": ".py",
   "mimetype": "text/x-python",
   "name": "python",
   "nbconvert_exporter": "python",
   "pygments_lexer": "ipython3",
   "version": "3.8.5"
  },
  "orig_nbformat": 4
 },
 "nbformat": 4,
 "nbformat_minor": 2
}
